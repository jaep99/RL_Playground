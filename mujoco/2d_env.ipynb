{
 "cells": [
  {
   "cell_type": "code",
   "execution_count": 4,
   "metadata": {},
   "outputs": [],
   "source": [
    "import mujoco\n",
    "import numpy as np\n",
    "import glfw\n",
    "import mediapy as media"
   ]
  },
  {
   "cell_type": "code",
   "execution_count": 5,
   "metadata": {},
   "outputs": [],
   "source": [
    "# Create a new MuJoCo model\n",
    "model = mujoco.MjModel.from_xml_string(\"\"\"\n",
    "<mujoco>\n",
    "    <worldbody>\n",
    "        <body name=\"cart\" pos=\"0 0 0.1\">\n",
    "            <geom type=\"box\" size=\"0.2 0.2 0.1\" rgba=\"0.8 0.2 0.2 1\"/>\n",
    "            <joint type=\"slide\" axis=\"1 0 0\" name=\"x\"/>\n",
    "            <joint type=\"slide\" axis=\"0 1 0\" name=\"y\"/>\n",
    "        </body>\n",
    "    </worldbody>\n",
    "    <actuator>\n",
    "        <motor joint=\"x\" ctrlrange=\"-1 1\" ctrllimited=\"true\"/>\n",
    "        <motor joint=\"y\" ctrlrange=\"-1 1\" ctrllimited=\"true\"/>\n",
    "    </actuator>\n",
    "</mujoco>\n",
    "\"\"\")\n",
    "\n",
    "# Initialize the simulation data\n",
    "data = mujoco.MjData(model)"
   ]
  },
  {
   "cell_type": "code",
   "execution_count": 6,
   "metadata": {},
   "outputs": [
    {
     "data": {
      "text/html": [
       "<table class=\"show_images\" style=\"border-spacing:0px;\"><tr><td style=\"padding:1px;\"><img width=\"320\" height=\"240\" style=\"image-rendering:auto; object-fit:cover;\" src=\"data:image/png;base64,iVBORw0KGgoAAAANSUhEUgAAAUAAAADwCAIAAAD+Tyo8AAAE2klEQVR4nO3cO3LjRhRA0bbLSpR69jD79268B006iRIHZFEaDT9ITKD7nrMCFBv34YEsaQwAAAAAAAAAAAAAAAAAAAAAAAAAAAAAAAAAAAAAAAAAAAAAAAAAAAAAAAAAAAAAAAAAAACAY/pj7wuYybeXl70vIeHt/X3vS5jGX3tfwEy+v77+reH/3z9vb3tfwjT+3PsCpvHt5UW9z2HT2U7AHI5BuZ2At/r++rr3JcBXAt7KY+FpzMrtBLyJt7In84FvJOBNPH6fzAe+kYA38UB4Mh/4RgLexAPhyXzgGwn4MU+DXfjYtxDwY74U3YWH8BYC5qA8gbcQ8GMeBbvwsW8h4Ac8B3bk5eUhAT/gHuLIBMxxmZ4PCfgef0LIwQmYQ/MQvk/A97h7ODgB32N/3p0Zep+Ab/ID0kE4iDsEzNHZg+4Q8E2WN45PwDcZ/Adhkt4h4Ou8dx2K47hFwNd5/B6K47hFwNcZ+YfiOG4R8HVG/qE4jlsEfIV5f0C+yrpKwFe4V5iFgJmDtegqAV/hjeuAHMpVAv7KpD8srza/E/BX7hImImCmYbb+TsC/8D90mIuAmYmH8BcC/oX7g7kI+Bf254MzYb8Q8Ac/IE3BMX0mYCZjS/pMwB+sZ0xHwB+M9imYs58J+Myb1UQc1oWAzzx+J+KwLgR8ZqhPxGFdCPjMUJ+Iw7oQ8Bgm+oR8lXUi4DHcDUxLwEzJ0nQi4DG8U03IkZ0I2CyflRefIeDhPmBmAmZWJu8QsP+hw9TqATM1D+F6wO4AplYP2P48NfM3HbAfkBYQP8R0wCwgvkOlA7aAMbt0wPHhvYb4FO4GHH93Wkn5KLsBe/wuo3yU3YDLY3sx5aPsBlwe24spH2U04PLMXlL2q6xowNnzZjHRgFlMdqUqBuxPCNeTPdBiwCyp+VpUDLh50iypGDBLas7lXMBegFlJLmAWFnwI5wIOnjELywVsf15YcDq3As7+3N9RO+JWwCyvtmG1Ag6uWDWewCurjeeg2hGHAq7N5qzUQYcCrs3mrNRBhwJODeay1EGHAk4N5rLUQVcCTk1lOj83VALunCgplYBJ6SxciYD9CWFN57gTARMUeWlKBBw5S4ISARMUmdrrB+wFOKvwVdb6Ab+9v+99CeyjcPTrBzzG+Pfnz70vgWf7Eah3RAImKDK1EwFHzpLPCvvziAQ8NBwT2Z9HJ2BSOvO6EnDnRBmZ/Xl0Ah4azujszyMVMBGpSR0KOHWuZZ39eaQCHrHlqql2xK2AU7O5qbZntQKunS7LawU8eitWyo/399qSlQu4dsApwQ0rF3DwjFlYLuBhi15UcH8ezYCDx1zQ3K2KAXsCs4xiwJ7A62nuz6MZ8KiuW6wnGrAtejHZiRwNuLlurSq7P49swCM8s1lJN2Bb9DLKs7gbcHbpWkx5fx7lgEd7crOGdMC26AXEp3A64PLqtYz4IaYDHvn5PTs7VD1gpmb+1gN2B0wtvj8PAQ8NT8v+PATMvEzeIeDhPpiW/XkI+ETD07E/nwiYKZm5JwIew90wIfvziYDPNDwR+/OFgJmPaXsh4DP3xETszxcC/qDhKdifPxMwkzFnPxPwB3fGFOzPAAAAAAAAAAAAAAAAAAAAAAAAAAAAAAAAAAAAAAAAAAAAAAAAAAAAAAAAwDP8B9oC/U3VHYM5AAAAAElFTkSuQmCC\"/></td></tr></table>"
      ],
      "text/plain": [
       "<IPython.core.display.HTML object>"
      ]
     },
     "metadata": {},
     "output_type": "display_data"
    }
   ],
   "source": [
    "renderer = mujoco.Renderer(model)\n",
    "\n",
    "mujoco.mj_forward(model, data)\n",
    "renderer.update_scene(data)\n",
    "\n",
    "media.show_image(renderer.render())"
   ]
  },
  {
   "cell_type": "code",
   "execution_count": 10,
   "metadata": {},
   "outputs": [],
   "source": [
    "from mujoco import viewer"
   ]
  },
  {
   "cell_type": "code",
   "execution_count": 11,
   "metadata": {},
   "outputs": [
    {
     "name": "stderr",
     "output_type": "stream",
     "text": [
      "2024-04-15 17:54:53.737 Python[64838:692981] TSM AdjustCapsLockLEDForKeyTransitionHandling - _ISSetPhysicalKeyboardCapsLockLED Inhibit\n"
     ]
    }
   ],
   "source": [
    "viewer.launch(model)"
   ]
  },
  {
   "cell_type": "markdown",
   "metadata": {},
   "source": [
    "카트폴 코드 참조해서, 빨리 프로토타입만 한번 만들어보자!"
   ]
  },
  {
   "cell_type": "code",
   "execution_count": 7,
   "metadata": {},
   "outputs": [
    {
     "data": {
      "text/plain": [
       "<mujoco._structs.MjModel at 0x111af2f30>"
      ]
     },
     "execution_count": 7,
     "metadata": {},
     "output_type": "execute_result"
    }
   ],
   "source": [
    "model.cam"
   ]
  },
  {
   "cell_type": "code",
   "execution_count": null,
   "metadata": {},
   "outputs": [],
   "source": [
    "mujoco.mjv_updateS"
   ]
  },
  {
   "cell_type": "code",
   "execution_count": 8,
   "metadata": {},
   "outputs": [
    {
     "ename": "TypeError",
     "evalue": "mjv_defaultCamera(): incompatible function arguments. The following argument types are supported:\n    1. (cam: mujoco._structs.MjvCamera) -> None\n\nInvoked with: <bound method PyCapsule.cam of <mujoco._structs.MjModel object at 0x111af2f30>>",
     "output_type": "error",
     "traceback": [
      "\u001b[0;31m---------------------------------------------------------------------------\u001b[0m",
      "\u001b[0;31mTypeError\u001b[0m                                 Traceback (most recent call last)",
      "Cell \u001b[0;32mIn[8], line 6\u001b[0m\n\u001b[1;32m      4\u001b[0m glfw\u001b[38;5;241m.\u001b[39mmake_context_current(window)\n\u001b[1;32m      5\u001b[0m \u001b[38;5;66;03m# mujoco.mjv_defaultCamera(model.vis.cam)\u001b[39;00m\n\u001b[0;32m----> 6\u001b[0m \u001b[43mmujoco\u001b[49m\u001b[38;5;241;43m.\u001b[39;49m\u001b[43mmjv_defaultCamera\u001b[49m\u001b[43m(\u001b[49m\u001b[43mmodel\u001b[49m\u001b[38;5;241;43m.\u001b[39;49m\u001b[43mcam\u001b[49m\u001b[43m)\u001b[49m\n\u001b[1;32m      8\u001b[0m \u001b[38;5;66;03m# Simulation loop\u001b[39;00m\n\u001b[1;32m      9\u001b[0m \u001b[38;5;28;01mwhile\u001b[39;00m \u001b[38;5;129;01mnot\u001b[39;00m glfw\u001b[38;5;241m.\u001b[39mwindow_should_close(window):\n\u001b[1;32m     10\u001b[0m     \u001b[38;5;66;03m# Get keyboard input\u001b[39;00m\n",
      "\u001b[0;31mTypeError\u001b[0m: mjv_defaultCamera(): incompatible function arguments. The following argument types are supported:\n    1. (cam: mujoco._structs.MjvCamera) -> None\n\nInvoked with: <bound method PyCapsule.cam of <mujoco._structs.MjModel object at 0x111af2f30>>"
     ]
    }
   ],
   "source": [
    "# Create a GLFW window\n",
    "glfw.init()\n",
    "window = glfw.create_window(800, 600, \"3D Cart\", None, None)\n",
    "glfw.make_context_current(window)\n",
    "# mujoco.mjv_defaultCamera(model.vis.cam)\n",
    "\n",
    "# Simulation loop\n",
    "while not glfw.window_should_close(window):\n",
    "    # Get keyboard input\n",
    "    x_force = 0.0\n",
    "    y_force = 0.0\n",
    "    if glfw.get_key(window, glfw.KEY_LEFT) == glfw.PRESS:\n",
    "        x_force = -1.0\n",
    "    if glfw.get_key(window, glfw.KEY_RIGHT) == glfw.PRESS:\n",
    "        x_force = 1.0\n",
    "    if glfw.get_key(window, glfw.KEY_DOWN) == glfw.PRESS:\n",
    "        y_force = -1.0\n",
    "    if glfw.get_key(window, glfw.KEY_UP) == glfw.PRESS:\n",
    "        y_force = 1.0\n",
    "\n",
    "    # Apply forces to the cart\n",
    "    data.ctrl[0] = x_force\n",
    "    data.ctrl[1] = y_force\n",
    "\n",
    "    # Step the simulation\n",
    "    mujoco.mj_step(model, data)\n",
    "\n",
    "    # Render the simulation\n",
    "    # mujoco.mjv_updateScene(model, data, model.vis.ptr, model.vis.camera.ptr)\n",
    "    mujoco.mjv_updateScene\n",
    "    # mujoco.mjr_render(model.vis.viewport.width, model.vis.viewport.height, model.vis.ptr)\n",
    "    glfw.swap_buffers(window)\n",
    "    glfw.poll_events()\n",
    "\n",
    "# Close the GLFW window and terminate\n",
    "glfw.terminate()\n"
   ]
  },
  {
   "cell_type": "code",
   "execution_count": null,
   "metadata": {},
   "outputs": [],
   "source": []
  }
 ],
 "metadata": {
  "kernelspec": {
   "display_name": "Python 3",
   "language": "python",
   "name": "python3"
  },
  "language_info": {
   "codemirror_mode": {
    "name": "ipython",
    "version": 3
   },
   "file_extension": ".py",
   "mimetype": "text/x-python",
   "name": "python",
   "nbconvert_exporter": "python",
   "pygments_lexer": "ipython3",
   "version": "3.11.6"
  }
 },
 "nbformat": 4,
 "nbformat_minor": 2
}
