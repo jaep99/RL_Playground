{
 "cells": [
  {
   "cell_type": "code",
   "execution_count": 1,
   "metadata": {},
   "outputs": [],
   "source": [
    "import mujoco\n",
    "import numpy as np\n",
    "import glfw"
   ]
  },
  {
   "cell_type": "code",
   "execution_count": 2,
   "metadata": {},
   "outputs": [
    {
     "ename": "AttributeError",
     "evalue": "'mujoco._structs.MjVisual' object has no attribute 'ptr'",
     "output_type": "error",
     "traceback": [
      "\u001b[0;31m---------------------------------------------------------------------------\u001b[0m",
      "\u001b[0;31mAttributeError\u001b[0m                            Traceback (most recent call last)",
      "Cell \u001b[0;32mIn[2], line 49\u001b[0m\n\u001b[1;32m     46\u001b[0m mujoco\u001b[38;5;241m.\u001b[39mmj_step(model, data)\n\u001b[1;32m     48\u001b[0m \u001b[38;5;66;03m# Render the simulation\u001b[39;00m\n\u001b[0;32m---> 49\u001b[0m mujoco\u001b[38;5;241m.\u001b[39mmjv_updateScene(model, data, \u001b[43mmodel\u001b[49m\u001b[38;5;241;43m.\u001b[39;49m\u001b[43mvis\u001b[49m\u001b[38;5;241;43m.\u001b[39;49m\u001b[43mptr\u001b[49m, model\u001b[38;5;241m.\u001b[39mvis\u001b[38;5;241m.\u001b[39mcamera\u001b[38;5;241m.\u001b[39mptr)\n\u001b[1;32m     50\u001b[0m mujoco\u001b[38;5;241m.\u001b[39mmjr_render(model\u001b[38;5;241m.\u001b[39mvis\u001b[38;5;241m.\u001b[39mviewport\u001b[38;5;241m.\u001b[39mwidth, model\u001b[38;5;241m.\u001b[39mvis\u001b[38;5;241m.\u001b[39mviewport\u001b[38;5;241m.\u001b[39mheight, model\u001b[38;5;241m.\u001b[39mvis\u001b[38;5;241m.\u001b[39mptr)\n\u001b[1;32m     51\u001b[0m glfw\u001b[38;5;241m.\u001b[39mswap_buffers(window)\n",
      "\u001b[0;31mAttributeError\u001b[0m: 'mujoco._structs.MjVisual' object has no attribute 'ptr'"
     ]
    }
   ],
   "source": [
    "# Create a new MuJoCo model\n",
    "model = mujoco.MjModel.from_xml_string(\"\"\"\n",
    "<mujoco>\n",
    "    <worldbody>\n",
    "        <body name=\"cart\" pos=\"0 0 0.1\">\n",
    "            <geom type=\"box\" size=\"0.2 0.2 0.1\" rgba=\"0.8 0.2 0.2 1\"/>\n",
    "            <joint type=\"slide\" axis=\"1 0 0\" name=\"x\"/>\n",
    "            <joint type=\"slide\" axis=\"0 1 0\" name=\"y\"/>\n",
    "        </body>\n",
    "    </worldbody>\n",
    "    <actuator>\n",
    "        <motor joint=\"x\" ctrlrange=\"-1 1\" ctrllimited=\"true\"/>\n",
    "        <motor joint=\"y\" ctrlrange=\"-1 1\" ctrllimited=\"true\"/>\n",
    "    </actuator>\n",
    "</mujoco>\n",
    "\"\"\")\n",
    "\n",
    "# Initialize the simulation data\n",
    "data = mujoco.MjData(model)\n",
    "\n",
    "# Create a GLFW window\n",
    "glfw.init()\n",
    "window = glfw.create_window(800, 600, \"3D Cart\", None, None)\n",
    "glfw.make_context_current(window)\n",
    "# mujoco.mjv_defaultCamera(model.vis.cam)\n",
    "\n",
    "# Simulation loop\n",
    "while not glfw.window_should_close(window):\n",
    "    # Get keyboard input\n",
    "    x_force = 0.0\n",
    "    y_force = 0.0\n",
    "    if glfw.get_key(window, glfw.KEY_LEFT) == glfw.PRESS:\n",
    "        x_force = -1.0\n",
    "    if glfw.get_key(window, glfw.KEY_RIGHT) == glfw.PRESS:\n",
    "        x_force = 1.0\n",
    "    if glfw.get_key(window, glfw.KEY_DOWN) == glfw.PRESS:\n",
    "        y_force = -1.0\n",
    "    if glfw.get_key(window, glfw.KEY_UP) == glfw.PRESS:\n",
    "        y_force = 1.0\n",
    "\n",
    "    # Apply forces to the cart\n",
    "    data.ctrl[0] = x_force\n",
    "    data.ctrl[1] = y_force\n",
    "\n",
    "    # Step the simulation\n",
    "    mujoco.mj_step(model, data)\n",
    "\n",
    "    # Render the simulation\n",
    "    mujoco.mjv_updateScene(model, data, model.vis.ptr, model.vis.camera.ptr)\n",
    "    mujoco.mjr_render(model.vis.viewport.width, model.vis.viewport.height, model.vis.ptr)\n",
    "    glfw.swap_buffers(window)\n",
    "    glfw.poll_events()\n",
    "\n",
    "# Close the GLFW window and terminate\n",
    "glfw.terminate()\n"
   ]
  },
  {
   "cell_type": "code",
   "execution_count": null,
   "metadata": {},
   "outputs": [],
   "source": []
  },
  {
   "cell_type": "code",
   "execution_count": null,
   "metadata": {},
   "outputs": [],
   "source": []
  }
 ],
 "metadata": {
  "kernelspec": {
   "display_name": "Python 3",
   "language": "python",
   "name": "python3"
  },
  "language_info": {
   "codemirror_mode": {
    "name": "ipython",
    "version": 3
   },
   "file_extension": ".py",
   "mimetype": "text/x-python",
   "name": "python",
   "nbconvert_exporter": "python",
   "pygments_lexer": "ipython3",
   "version": "3.10.12"
  }
 },
 "nbformat": 4,
 "nbformat_minor": 2
}
